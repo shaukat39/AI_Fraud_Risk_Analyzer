{
  "nbformat": 4,
  "nbformat_minor": 0,
  "metadata": {
    "colab": {
      "provenance": [],
      "authorship_tag": "ABX9TyOp+7wripPgIKSQs2w0IkSm",
      "include_colab_link": true
    },
    "kernelspec": {
      "name": "python3",
      "display_name": "Python 3"
    },
    "language_info": {
      "name": "python"
    }
  },
  "cells": [
    {
      "cell_type": "markdown",
      "metadata": {
        "id": "view-in-github",
        "colab_type": "text"
      },
      "source": [
        "<a href=\"https://colab.research.google.com/github/shaukat39/AI_Fraud_Risk_Analyzer/blob/main/fraud_analyzer_demo.ipynb\" target=\"_parent\"><img src=\"https://colab.research.google.com/assets/colab-badge.svg\" alt=\"Open In Colab\"/></a>"
      ]
    },
    {
      "cell_type": "markdown",
      "source": [
        "# 🕵️‍♂️ AI-Powered Fraud Risk Analyzer Demo\n",
        "\n",
        "This notebook lets you test the core logic of a production-grade fraud detection system. You'll simulate predictions, run feature engineering, and calculate business ROI—all interactively.\n",
        "\n",
        "✅ No deployment needed  \n",
        "✅ Works with or without a trained model  \n",
        "✅ Ideal for testing, showcasing, and teaching"
      ],
      "metadata": {
        "id": "RLe9fuhLJgfQ"
      }
    },
    {
      "cell_type": "code",
      "execution_count": 1,
      "metadata": {
        "id": "Yrvq2dw2JUd1"
      },
      "outputs": [],
      "source": [
        "import numpy as np\n",
        "import pandas as pd\n",
        "import joblib\n",
        "import json\n",
        "from functools import lru_cache\n",
        "import matplotlib.pyplot as plt"
      ]
    },
    {
      "cell_type": "code",
      "source": [
        "# Load pre-trained model (optional)\n",
        "try:\n",
        "    model = joblib.load(\"fraud_model.pkl\")\n",
        "except:\n",
        "    class DummyModel:\n",
        "        def predict_proba(self, X):\n",
        "            return np.random.rand(len(X), 2)\n",
        "    model = DummyModel()"
      ],
      "metadata": {
        "id": "XLyLUzNjJ7-D"
      },
      "execution_count": 2,
      "outputs": []
    },
    {
      "cell_type": "code",
      "source": [
        "@lru_cache(maxsize=1000)\n",
        "def cached_feature_engineering(user_id, amount, merchant_id, payment_method):\n",
        "    return pd.DataFrame([{\n",
        "        \"user_id\": hash(user_id) % 1000,\n",
        "        \"amount\": amount,\n",
        "        \"merchant_id\": hash(merchant_id) % 1000,\n",
        "        \"payment_method\": {\"credit_card\": 1, \"debit_card\": 0}.get(payment_method, 0)\n",
        "    }])"
      ],
      "metadata": {
        "id": "1D4KyQnSJ_nC"
      },
      "execution_count": 3,
      "outputs": []
    },
    {
      "cell_type": "code",
      "source": [
        "def predict_fraud(user_id, amount, merchant_id, payment_method):\n",
        "    features = cached_feature_engineering(user_id, amount, merchant_id, payment_method)\n",
        "    score = model.predict_proba(features)[0][1]\n",
        "    risk = \"HIGH\" if score > 0.7 else \"MEDIUM\" if score > 0.4 else \"LOW\"\n",
        "    return {\"fraud_score\": round(score, 3), \"risk_level\": risk}"
      ],
      "metadata": {
        "id": "rqmHKgiIKF0_"
      },
      "execution_count": 4,
      "outputs": []
    },
    {
      "cell_type": "code",
      "source": [
        "class BusinessImpactCalculator:\n",
        "    def __init__(self, system_cost_monthly=10000, false_positive_cost=5, fraud_investigation_cost=50):\n",
        "        self.system_cost_monthly = system_cost_monthly\n",
        "        self.false_positive_cost = false_positive_cost\n",
        "        self.fraud_investigation_cost = fraud_investigation_cost\n",
        "\n",
        "    def calculate_roi(self, prevented_fraud_amount, false_positives, fraud_cases):\n",
        "        total_costs = (\n",
        "            self.system_cost_monthly +\n",
        "            false_positives * self.false_positive_cost +\n",
        "            fraud_cases * self.fraud_investigation_cost\n",
        "        )\n",
        "        net_benefit = prevented_fraud_amount - total_costs\n",
        "        roi = (net_benefit / total_costs) * 100 if total_costs else 0\n",
        "        break_even_days = (total_costs / (prevented_fraud_amount / 30)) if prevented_fraud_amount > 0 else 0\n",
        "        return {\n",
        "            \"prevented_fraud\": prevented_fraud_amount,\n",
        "            \"total_costs\": total_costs,\n",
        "            \"net_benefit\": net_benefit,\n",
        "            \"roi_percentage\": round(roi, 2),\n",
        "            \"break_even_days\": round(break_even_days, 2)\n",
        "        }"
      ],
      "metadata": {
        "id": "IwI1gaKaKmg3"
      },
      "execution_count": 5,
      "outputs": []
    },
    {
      "cell_type": "code",
      "source": [
        "# Simulate a prediction\n",
        "result = predict_fraud(\"user_123\", 250.50, \"merchant_abc\", \"credit_card\")\n",
        "print(\"Prediction:\", result)\n",
        "\n",
        "# Simulate ROI calculation\n",
        "calculator = BusinessImpactCalculator()\n",
        "roi_result = calculator.calculate_roi(prevented_fraud_amount=50000, false_positives=120, fraud_cases=80)\n",
        "print(\"Business Impact:\", roi_result)"
      ],
      "metadata": {
        "colab": {
          "base_uri": "https://localhost:8080/"
        },
        "id": "0Lu78xl_K29A",
        "outputId": "b4bb916c-9565-45e4-839c-42ee50e7b4eb"
      },
      "execution_count": 6,
      "outputs": [
        {
          "output_type": "stream",
          "name": "stdout",
          "text": [
            "Prediction: {'fraud_score': np.float64(0.656), 'risk_level': 'MEDIUM'}\n",
            "Business Impact: {'prevented_fraud': 50000, 'total_costs': 14600, 'net_benefit': 35400, 'roi_percentage': 242.47, 'break_even_days': 8.76}\n"
          ]
        }
      ]
    },
    {
      "cell_type": "code",
      "source": [
        "labels = [\"Prevented Fraud\", \"Total Costs\", \"Net Benefit\"]\n",
        "values = [roi_result[\"prevented_fraud\"], roi_result[\"total_costs\"], roi_result[\"net_benefit\"]]\n",
        "colors = [\"green\", \"red\", \"blue\"]\n",
        "\n",
        "plt.figure(figsize=(8, 5))\n",
        "plt.bar(labels, values, color=colors)\n",
        "plt.title(\"ROI Breakdown\")\n",
        "plt.ylabel(\"USD\")\n",
        "plt.show()"
      ],
      "metadata": {
        "colab": {
          "base_uri": "https://localhost:8080/",
          "height": 468
        },
        "id": "KNBrHoFQK_Bn",
        "outputId": "9d946a73-5989-4d41-dee7-5528b741d35e"
      },
      "execution_count": 7,
      "outputs": [
        {
          "output_type": "display_data",
          "data": {
            "text/plain": [
              "<Figure size 800x500 with 1 Axes>"
            ],
            "image/png": "[encoded data removed]"
          },
          "metadata": {}
        }
      ]
    }
  ]
}